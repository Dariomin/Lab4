{
 "cells": [
  {
   "cell_type": "markdown",
   "id": "498f4fb3",
   "metadata": {},
   "source": [
    "## Ciao raga\n",
    "\n",
    "Elisabetta ti odio  solo per il fatto che non leggerai mai questo codice.\n",
    "Ciao Antonino.nfjdshfuidsfcewd\n",
    "Ciao **SIMONINI**fdjfdsj\n",
    "\n",
    "\n",
    "aggiungo altre coseeeeee\n",
    "altre cose per prova\n",
    "\n",
    "\n",
    "provo di nuovo\n",
    "\n",
    "\n",
    "\n"
   ]
  },
  {
   "cell_type": "code",
   "execution_count": 30,
   "id": "02d8c320",
   "metadata": {},
   "outputs": [],
   "source": [
    "import numpy as np\n",
    "import pandas as pd\n",
    "import matplotlib.pyplot as plt\n",
    "from scipy.optimize import curve_fit\n",
    "from scipy import stats\n",
    "from scipy import odr\n",
    "# import iminuit\n",
    "# from iminuit import Minuit"
   ]
  },
  {
   "cell_type": "code",
   "execution_count": 63,
   "id": "977afa3b",
   "metadata": {},
   "outputs": [],
   "source": [
    "df = pd.read_excel(\n",
    "    r\"C:\\Users\\dario\\OneDrive\\Desktop\\università\\Laurea_Magistrale\\Laboratorio_4\\Esperienze_lab\\Esperienza1\\Misura_Kb_tensione_copia.xlsx\",\n",
    "    usecols=\"E:J\",\n",
    "    nrows = 20\n",
    ")\n",
    "c = df[\"Capacità misurata (nF)\"]\n",
    "err_c = df[\"Err C (nF)\"]\n",
    "v = df[\"V2 (V)\"]\n",
    "err_v = df[\"Err V ( V)\"]\n",
    "\n",
    "c_rev = 1 / c\n",
    "err_c_rev = err_c/ c**2\n"
   ]
  },
  {
   "cell_type": "code",
   "execution_count": 64,
   "id": "404f2b2d",
   "metadata": {},
   "outputs": [
    {
     "data": {
      "text/html": [
       "<div>\n",
       "<style scoped>\n",
       "    .dataframe tbody tr th:only-of-type {\n",
       "        vertical-align: middle;\n",
       "    }\n",
       "\n",
       "    .dataframe tbody tr th {\n",
       "        vertical-align: top;\n",
       "    }\n",
       "\n",
       "    .dataframe thead th {\n",
       "        text-align: right;\n",
       "    }\n",
       "</style>\n",
       "<table border=\"1\" class=\"dataframe\">\n",
       "  <thead>\n",
       "    <tr style=\"text-align: right;\">\n",
       "      <th></th>\n",
       "      <th>Capacità (pF)</th>\n",
       "      <th>Capacità misurata (nF)</th>\n",
       "      <th>1/C</th>\n",
       "      <th>V2 (V)</th>\n",
       "      <th>Err C (nF)</th>\n",
       "      <th>Err V ( V)</th>\n",
       "    </tr>\n",
       "  </thead>\n",
       "  <tbody>\n",
       "    <tr>\n",
       "      <th>0</th>\n",
       "      <td>10000</td>\n",
       "      <td>9.770</td>\n",
       "      <td>0.102354</td>\n",
       "      <td>1.196</td>\n",
       "      <td>0.048850</td>\n",
       "      <td>0.05980</td>\n",
       "    </tr>\n",
       "    <tr>\n",
       "      <th>1</th>\n",
       "      <td>13300</td>\n",
       "      <td>12.720</td>\n",
       "      <td>0.078616</td>\n",
       "      <td>1.184</td>\n",
       "      <td>0.063600</td>\n",
       "      <td>0.05920</td>\n",
       "    </tr>\n",
       "    <tr>\n",
       "      <th>2</th>\n",
       "      <td>4700</td>\n",
       "      <td>4.486</td>\n",
       "      <td>0.222916</td>\n",
       "      <td>1.600</td>\n",
       "      <td>0.022430</td>\n",
       "      <td>0.08000</td>\n",
       "    </tr>\n",
       "    <tr>\n",
       "      <th>3</th>\n",
       "      <td>22000</td>\n",
       "      <td>22.800</td>\n",
       "      <td>0.043860</td>\n",
       "      <td>1.000</td>\n",
       "      <td>0.114000</td>\n",
       "      <td>0.05000</td>\n",
       "    </tr>\n",
       "    <tr>\n",
       "      <th>4</th>\n",
       "      <td>33000</td>\n",
       "      <td>35.710</td>\n",
       "      <td>0.028003</td>\n",
       "      <td>1.306</td>\n",
       "      <td>0.178550</td>\n",
       "      <td>0.06530</td>\n",
       "    </tr>\n",
       "    <tr>\n",
       "      <th>5</th>\n",
       "      <td>7800</td>\n",
       "      <td>6.743</td>\n",
       "      <td>0.148302</td>\n",
       "      <td>1.476</td>\n",
       "      <td>0.033715</td>\n",
       "      <td>0.07380</td>\n",
       "    </tr>\n",
       "    <tr>\n",
       "      <th>6</th>\n",
       "      <td>6600</td>\n",
       "      <td>6.029</td>\n",
       "      <td>0.165865</td>\n",
       "      <td>1.475</td>\n",
       "      <td>0.030145</td>\n",
       "      <td>0.07375</td>\n",
       "    </tr>\n",
       "    <tr>\n",
       "      <th>7</th>\n",
       "      <td>78000</td>\n",
       "      <td>74.880</td>\n",
       "      <td>0.013355</td>\n",
       "      <td>1.007</td>\n",
       "      <td>0.374400</td>\n",
       "      <td>0.05035</td>\n",
       "    </tr>\n",
       "    <tr>\n",
       "      <th>8</th>\n",
       "      <td>68000</td>\n",
       "      <td>62.400</td>\n",
       "      <td>0.016026</td>\n",
       "      <td>1.023</td>\n",
       "      <td>0.312000</td>\n",
       "      <td>0.05115</td>\n",
       "    </tr>\n",
       "    <tr>\n",
       "      <th>9</th>\n",
       "      <td>5600</td>\n",
       "      <td>4.612</td>\n",
       "      <td>0.216826</td>\n",
       "      <td>1.731</td>\n",
       "      <td>0.023060</td>\n",
       "      <td>0.08655</td>\n",
       "    </tr>\n",
       "    <tr>\n",
       "      <th>10</th>\n",
       "      <td>15600</td>\n",
       "      <td>14.050</td>\n",
       "      <td>0.071174</td>\n",
       "      <td>1.556</td>\n",
       "      <td>0.070250</td>\n",
       "      <td>0.07780</td>\n",
       "    </tr>\n",
       "    <tr>\n",
       "      <th>11</th>\n",
       "      <td>12200</td>\n",
       "      <td>11.390</td>\n",
       "      <td>0.087796</td>\n",
       "      <td>1.394</td>\n",
       "      <td>0.056950</td>\n",
       "      <td>0.06970</td>\n",
       "    </tr>\n",
       "    <tr>\n",
       "      <th>12</th>\n",
       "      <td>39600</td>\n",
       "      <td>43.880</td>\n",
       "      <td>0.022789</td>\n",
       "      <td>1.120</td>\n",
       "      <td>0.219400</td>\n",
       "      <td>0.05600</td>\n",
       "    </tr>\n",
       "    <tr>\n",
       "      <th>13</th>\n",
       "      <td>27600</td>\n",
       "      <td>25.310</td>\n",
       "      <td>0.039510</td>\n",
       "      <td>1.483</td>\n",
       "      <td>0.126550</td>\n",
       "      <td>0.07415</td>\n",
       "    </tr>\n",
       "    <tr>\n",
       "      <th>14</th>\n",
       "      <td>8900</td>\n",
       "      <td>7.935</td>\n",
       "      <td>0.126024</td>\n",
       "      <td>1.625</td>\n",
       "      <td>0.039675</td>\n",
       "      <td>0.08125</td>\n",
       "    </tr>\n",
       "    <tr>\n",
       "      <th>15</th>\n",
       "      <td>100000</td>\n",
       "      <td>103.700</td>\n",
       "      <td>0.009643</td>\n",
       "      <td>1.026</td>\n",
       "      <td>0.518500</td>\n",
       "      <td>0.05130</td>\n",
       "    </tr>\n",
       "    <tr>\n",
       "      <th>16</th>\n",
       "      <td>18000</td>\n",
       "      <td>17.230</td>\n",
       "      <td>0.058038</td>\n",
       "      <td>1.451</td>\n",
       "      <td>0.086150</td>\n",
       "      <td>0.07255</td>\n",
       "    </tr>\n",
       "    <tr>\n",
       "      <th>17</th>\n",
       "      <td>20000</td>\n",
       "      <td>19.430</td>\n",
       "      <td>0.051467</td>\n",
       "      <td>1.179</td>\n",
       "      <td>0.097150</td>\n",
       "      <td>0.05895</td>\n",
       "    </tr>\n",
       "    <tr>\n",
       "      <th>18</th>\n",
       "      <td>57000</td>\n",
       "      <td>58.800</td>\n",
       "      <td>0.017007</td>\n",
       "      <td>0.969</td>\n",
       "      <td>0.294000</td>\n",
       "      <td>0.04845</td>\n",
       "    </tr>\n",
       "    <tr>\n",
       "      <th>19</th>\n",
       "      <td>47000</td>\n",
       "      <td>47.600</td>\n",
       "      <td>0.021008</td>\n",
       "      <td>1.099</td>\n",
       "      <td>0.238000</td>\n",
       "      <td>0.05495</td>\n",
       "    </tr>\n",
       "  </tbody>\n",
       "</table>\n",
       "</div>"
      ],
      "text/plain": [
       "    Capacità (pF)  Capacità misurata (nF)       1/C  V2 (V)  Err C (nF)  \\\n",
       "0           10000                   9.770  0.102354   1.196    0.048850   \n",
       "1           13300                  12.720  0.078616   1.184    0.063600   \n",
       "2            4700                   4.486  0.222916   1.600    0.022430   \n",
       "3           22000                  22.800  0.043860   1.000    0.114000   \n",
       "4           33000                  35.710  0.028003   1.306    0.178550   \n",
       "5            7800                   6.743  0.148302   1.476    0.033715   \n",
       "6            6600                   6.029  0.165865   1.475    0.030145   \n",
       "7           78000                  74.880  0.013355   1.007    0.374400   \n",
       "8           68000                  62.400  0.016026   1.023    0.312000   \n",
       "9            5600                   4.612  0.216826   1.731    0.023060   \n",
       "10          15600                  14.050  0.071174   1.556    0.070250   \n",
       "11          12200                  11.390  0.087796   1.394    0.056950   \n",
       "12          39600                  43.880  0.022789   1.120    0.219400   \n",
       "13          27600                  25.310  0.039510   1.483    0.126550   \n",
       "14           8900                   7.935  0.126024   1.625    0.039675   \n",
       "15         100000                 103.700  0.009643   1.026    0.518500   \n",
       "16          18000                  17.230  0.058038   1.451    0.086150   \n",
       "17          20000                  19.430  0.051467   1.179    0.097150   \n",
       "18          57000                  58.800  0.017007   0.969    0.294000   \n",
       "19          47000                  47.600  0.021008   1.099    0.238000   \n",
       "\n",
       "    Err V ( V)  \n",
       "0      0.05980  \n",
       "1      0.05920  \n",
       "2      0.08000  \n",
       "3      0.05000  \n",
       "4      0.06530  \n",
       "5      0.07380  \n",
       "6      0.07375  \n",
       "7      0.05035  \n",
       "8      0.05115  \n",
       "9      0.08655  \n",
       "10     0.07780  \n",
       "11     0.06970  \n",
       "12     0.05600  \n",
       "13     0.07415  \n",
       "14     0.08125  \n",
       "15     0.05130  \n",
       "16     0.07255  \n",
       "17     0.05895  \n",
       "18     0.04845  \n",
       "19     0.05495  "
      ]
     },
     "execution_count": 64,
     "metadata": {},
     "output_type": "execute_result"
    }
   ],
   "source": [
    "df"
   ]
  },
  {
   "cell_type": "markdown",
   "id": "dd304bc1",
   "metadata": {},
   "source": [
    "Il modello è $y = a x + b$ \n",
    "\n",
    " $V_2 = \\frac{K_B T}{U^* C}$\n",
    "\n",
    " con $y = V_2$,  $a = \\frac{K_B T}{U^* C}$ ,  x = 1/C\n",
    "\n",
    " supponiamo che:\n",
    "\n",
    "- $T = 25 °C = 300 K$\n",
    "- $U^* = \\frac{U_m}{Y^2} \\frac{R_1}{R_1 + R_2} \\frac{R_V + R_{av}}{R_V}$\n",
    " con $U_m = 10 V,  Y = 1.01·10^6 , R_2 = 9R_1, R_{av} = 1.5 M \\Omega $\n"
   ]
  },
  {
   "cell_type": "markdown",
   "id": "a1ffe7e7",
   "metadata": {},
   "source": [
    "Fit lineare con Minuit nel caso in cui gli errori sulle x siano effettivamente trascurabili\n"
   ]
  },
  {
   "cell_type": "markdown",
   "id": "60efbf09",
   "metadata": {},
   "source": []
  },
  {
   "cell_type": "markdown",
   "id": "4b5bc714",
   "metadata": {},
   "source": [
    " ### FIT LINEARE NEL CASO IN CUI NON SIANO TRASCURABILI GLI ERRORI SULLE X"
   ]
  },
  {
   "cell_type": "code",
   "execution_count": 65,
   "id": "69127155",
   "metadata": {},
   "outputs": [],
   "source": [
    "T  = 300 \n",
    "U_star = 10/(1.01 * 10**6)**2 /10 * 1 # aggiustare, non so il valoroe di R_V\n",
    "\n",
    "def linear_func(B, x):\n",
    "        return B[0] * x + B[1]\n",
    "\n",
    "def fit_lineare(x,y, errx, erry):\n",
    "    \n",
    "    \n",
    "\n",
    "    linear_model = odr.Model(linear_func) \n",
    "\n",
    "    data = odr.RealData(x, y, sx=errx, sy= erry)\n",
    "\n",
    "    fit = odr.ODR(data, linear_model, beta0=[1, 0])  # parametri iniziali [pendenza, intercetta]\n",
    "\n",
    "    output = fit.run()\n",
    "    par, cov = output.beta, output.cov_beta\n",
    "    dev_std = output.sd_beta\n",
    "    \n",
    "    return par, dev_std\n",
    " \n",
    " \n"
   ]
  },
  {
   "cell_type": "code",
   "execution_count": 66,
   "id": "2de7bc8d",
   "metadata": {},
   "outputs": [
    {
     "name": "stdout",
     "output_type": "stream",
     "text": [
      "coefficiente angolare m = 3.09 +- 0.55 \n",
      "intercetta q = 1.03 +- 0.05 \n",
      "[0.55498107 0.04580143]\n"
     ]
    }
   ],
   "source": [
    "par, dev_std = fit_lineare(c_rev, v, err_c_rev, err_v)\n",
    "print(f\"coefficiente angolare m = {par[0]:.2f} +- {dev_std[0]:.2f} \")\n",
    "print(f\"intercetta q = {par[1]:.2f} +- {dev_std[1]:.2f} \")\n",
    "print(dev_std)"
   ]
  },
  {
   "cell_type": "code",
   "execution_count": 67,
   "id": "74661070",
   "metadata": {},
   "outputs": [
    {
     "data": {
      "text/plain": [
       "Text(0, 0.5, 'V (V)')"
      ]
     },
     "execution_count": 67,
     "metadata": {},
     "output_type": "execute_result"
    },
    {
     "data": {
      "image/png": "[encoded data removed]",
      "text/plain": [
       "<Figure size 640x480 with 1 Axes>"
      ]
     },
     "metadata": {},
     "output_type": "display_data"
    }
   ],
   "source": [
    "plt.errorbar(c_rev, v, yerr = err_v, xerr = err_c_rev,fmt = \"o\", color = \"red\")\n",
    "label_fit = (\n",
    "    \"Parametri fit\"\n",
    "    \"\\n  • \" + f\"m = ({par[0]:.2f} ± {dev_std[0]:.2f}) V\"\n",
    "    \"\\n  • \" + f\"q = ({par[1]:.2f} ± {dev_std[1]:.2f}) V\"\n",
    ")\n",
    "plt.plot(\n",
    "    c_rev,\n",
    "    linear_func(par, c_rev),\n",
    "    color=\"green\",\n",
    "    label=label_fit)\n",
    "plt.title(\"V vs 1/C\")\n",
    "plt.xlabel(\"1/C (1/nF)\")\n",
    "plt.legend()\n",
    "plt.ylabel(\"V (V)\")"
   ]
  },
  {
   "cell_type": "markdown",
   "id": "a8f1ecce",
   "metadata": {},
   "source": [
    "## Algoritmo per la convergeza di K_B\n",
    "\n",
    "Nota bene: in questo processo vanno DIVISI  per $Z$ i valori ORIGINARIAMENTE misurati di $V_2$"
   ]
  },
  {
   "cell_type": "code",
   "execution_count": 68,
   "id": "3fc7a48e",
   "metadata": {},
   "outputs": [
    {
     "name": "stdout",
     "output_type": "stream",
     "text": [
      "[9.77, 12.72, 4.486, 22.8, 35.71, 6.743, 6.029, 74.88, 62.4, 4.612, 14.05, 11.39, 43.88, 25.31, 7.935, 103.7, 17.23, 19.43, 58.8, 47.6]\n"
     ]
    }
   ],
   "source": [
    "print(list(c))\n",
    "# print(c)"
   ]
  },
  {
   "cell_type": "code",
   "execution_count": 72,
   "id": "f01990b1",
   "metadata": {},
   "outputs": [
    {
     "name": "stdout",
     "output_type": "stream",
     "text": [
      "Convergenza raggiunta dopo 3 iterazioni: q → -0.000\n",
      "\n",
      "Valori di q durante le iterazioni:\n",
      "Iterazione 1: q = 1.027393\n",
      "Iterazione 2: q = -0.011837\n",
      "Iterazione 3: q = 0.000576\n"
     ]
    }
   ],
   "source": [
    "eff = 5\n",
    "count = 0\n",
    "iter_max = 100\n",
    "eps = np.array([10.7, 9.1, 18, 6.2, 5.5, 18, 18, 6.8, 6.3, 18, 8.2, 9.7, 5.5, 5.9, 18, 8.5, 7, 6.6, 6, 5.7])\n",
    "Z = 1 - eps\n",
    "\n",
    "v_new = []\n",
    "q_values = []   # lista per salvare i valori di q\n",
    "m_values = []\n",
    "\n",
    "while eff > 0.01 and count < iter_max:\n",
    "    \n",
    "    par, dev_std = fit_lineare(c_rev, v, err_c_rev, err_v)\n",
    "    m, q = par\n",
    "    q_values.append(q)  # salvo il valore di q\n",
    "    m_values.append(m)  # salvo il valore di m\n",
    "    \n",
    "    v_new = (v - q) / Z\n",
    "    \n",
    "    # nuovo fit con i nuovi valori\n",
    "    par1, dev_std1 = fit_lineare(c_rev, v_new, err_c_rev, err_v) \n",
    "    m1, q1 = par1\n",
    "    \n",
    "    eff = abs(q - q1)\n",
    "    \n",
    "    v = v_new.copy()\n",
    "    count += 1\n",
    "\n",
    "print(f\"Convergenza raggiunta dopo {count} iterazioni: q → {q1:.3f}\")\n",
    "\n",
    "# stampa dei valori di q prima della convergenza\n",
    "print(\"\\nValori di q durante le iterazioni:\")\n",
    "for i, val in enumerate(q_values):\n",
    "    print(f\"Iterazione {i+1}: q = {val:.6f}\")\n"
   ]
  },
  {
   "cell_type": "code",
   "execution_count": null,
   "id": "2250ca7e",
   "metadata": {},
   "outputs": [],
   "source": []
  },
  {
   "cell_type": "code",
   "execution_count": 73,
   "id": "6c813dce",
   "metadata": {},
   "outputs": [
    {
     "name": "stdout",
     "output_type": "stream",
     "text": [
      "[1.0273932315124599, -0.01183710377832117, 0.0005764541404596731]\n",
      "[3.0866958898083636, -0.15855209519604227, 0.011765338149608789]\n"
     ]
    }
   ],
   "source": [
    "print(q_values)\n",
    "print(m_values)"
   ]
  },
  {
   "cell_type": "code",
   "execution_count": 74,
   "id": "6abb695c",
   "metadata": {},
   "outputs": [
    {
     "name": "stdout",
     "output_type": "stream",
     "text": [
      "valore del coefficiente angolare = 0.011765338149608789\n",
      "kB = 3.92177938320293e-05\n"
     ]
    }
   ],
   "source": [
    "print(f\"valore del coefficiente angolare = {m_values[-1]}\")\n",
    "print(f\"kB = {m_values[-1]/T}\")"
   ]
  }
 ],
 "metadata": {
  "kernelspec": {
   "display_name": "Python 3 (ipykernel)",
   "language": "python",
   "name": "python3"
  },
  "language_info": {
   "codemirror_mode": {
    "name": "ipython",
    "version": 3
   },
   "file_extension": ".py",
   "mimetype": "text/x-python",
   "name": "python",
   "nbconvert_exporter": "python",
   "pygments_lexer": "ipython3",
   "version": "3.9.13"
  }
 },
 "nbformat": 4,
 "nbformat_minor": 5
}
