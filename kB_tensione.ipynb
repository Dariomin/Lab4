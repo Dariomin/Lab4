{
 "cells": [
  {
   "cell_type": "markdown",
   "id": "498f4fb3",
   "metadata": {},
   "source": [
    "## Ciao raga\n",
    "\n",
    "Elisabetta ti odio  solo per il fatto che non leggerai mai questo codice.\n",
    "Ciao Antonino.nfjdshfuidsfcewd\n",
    "Ciao **SIMONINI**fdjfdsj\n",
    "\n",
    "\n",
    "aggiungo altre coseeeeee\n",
    "altre cose per prova\n",
    "\n",
    "\n",
    "provo di nuovo\n",
    "\n",
    "\n",
    "\n"
   ]
  },
  {
   "cell_type": "code",
   "execution_count": 1,
   "id": "02d8c320",
   "metadata": {},
   "outputs": [
    {
     "ename": "ModuleNotFoundError",
     "evalue": "No module named 'iminuit'",
     "output_type": "error",
     "traceback": [
      "\u001b[1;31m---------------------------------------------------------------------------\u001b[0m",
      "\u001b[1;31mModuleNotFoundError\u001b[0m                       Traceback (most recent call last)",
      "\u001b[1;32m~\\AppData\\Local\\Temp\\ipykernel_2680\\1833434175.py\u001b[0m in \u001b[0;36m<module>\u001b[1;34m\u001b[0m\n\u001b[0;32m      5\u001b[0m \u001b[1;32mfrom\u001b[0m \u001b[0mscipy\u001b[0m \u001b[1;32mimport\u001b[0m \u001b[0mstats\u001b[0m\u001b[1;33m\u001b[0m\u001b[1;33m\u001b[0m\u001b[0m\n\u001b[0;32m      6\u001b[0m \u001b[1;32mfrom\u001b[0m \u001b[0mscipy\u001b[0m \u001b[1;32mimport\u001b[0m \u001b[0modr\u001b[0m\u001b[1;33m\u001b[0m\u001b[1;33m\u001b[0m\u001b[0m\n\u001b[1;32m----> 7\u001b[1;33m \u001b[1;32mimport\u001b[0m \u001b[0miminuit\u001b[0m\u001b[1;33m\u001b[0m\u001b[1;33m\u001b[0m\u001b[0m\n\u001b[0m\u001b[0;32m      8\u001b[0m \u001b[1;32mfrom\u001b[0m \u001b[0miminuit\u001b[0m \u001b[1;32mimport\u001b[0m \u001b[0mMinuit\u001b[0m\u001b[1;33m\u001b[0m\u001b[1;33m\u001b[0m\u001b[0m\n",
      "\u001b[1;31mModuleNotFoundError\u001b[0m: No module named 'iminuit'"
     ]
    }
   ],
   "source": [
    "import numpy as np\n",
    "import pandas as pd\n",
    "import matplotlib.pyplot as plt\n",
    "from scipy.optimize import curve_fit\n",
    "from scipy import stats\n",
    "from scipy import odr\n",
    "import iminuit\n",
    "from iminuit import Minuit"
   ]
  },
  {
   "cell_type": "code",
   "execution_count": 2,
   "id": "977afa3b",
   "metadata": {},
   "outputs": [],
   "source": [
    "df = pd.read_excel(r\"C:\\Users\\dario\\OneDrive\\Desktop\\università\\Laurea_Magistrale\\Laboratorio_4\\Esperienze_lab\\Esperienza1\\Misura_Kb_tensione.xlsx\" )\n",
    "\n",
    "c = df[\"Capacità (nF)\"]\n",
    "err_c = df[\"Err C (nF)\"]\n",
    "\n",
    "v = df[\"V2 (V)\"]\n",
    "err_v = df[\"Err V ( V)\"]\n",
    "\n",
    "c_rev = 1 / c\n",
    "err_c_rev = err_c/ c**2\n"
   ]
  },
  {
   "cell_type": "code",
   "execution_count": 3,
   "id": "404f2b2d",
   "metadata": {},
   "outputs": [
    {
     "data": {
      "text/html": [
       "<div>\n",
       "<style scoped>\n",
       "    .dataframe tbody tr th:only-of-type {\n",
       "        vertical-align: middle;\n",
       "    }\n",
       "\n",
       "    .dataframe tbody tr th {\n",
       "        vertical-align: top;\n",
       "    }\n",
       "\n",
       "    .dataframe thead th {\n",
       "        text-align: right;\n",
       "    }\n",
       "</style>\n",
       "<table border=\"1\" class=\"dataframe\">\n",
       "  <thead>\n",
       "    <tr style=\"text-align: right;\">\n",
       "      <th></th>\n",
       "      <th>Capacità (nF)</th>\n",
       "      <th>V2 (V)</th>\n",
       "      <th>Err C (nF)</th>\n",
       "      <th>Err V ( V)</th>\n",
       "    </tr>\n",
       "  </thead>\n",
       "  <tbody>\n",
       "    <tr>\n",
       "      <th>0</th>\n",
       "      <td>10</td>\n",
       "      <td>1</td>\n",
       "      <td>1</td>\n",
       "      <td>1</td>\n",
       "    </tr>\n",
       "    <tr>\n",
       "      <th>1</th>\n",
       "      <td>9</td>\n",
       "      <td>2</td>\n",
       "      <td>1</td>\n",
       "      <td>1</td>\n",
       "    </tr>\n",
       "    <tr>\n",
       "      <th>2</th>\n",
       "      <td>8</td>\n",
       "      <td>3</td>\n",
       "      <td>1</td>\n",
       "      <td>1</td>\n",
       "    </tr>\n",
       "    <tr>\n",
       "      <th>3</th>\n",
       "      <td>7</td>\n",
       "      <td>4</td>\n",
       "      <td>1</td>\n",
       "      <td>1</td>\n",
       "    </tr>\n",
       "    <tr>\n",
       "      <th>4</th>\n",
       "      <td>6</td>\n",
       "      <td>5</td>\n",
       "      <td>1</td>\n",
       "      <td>1</td>\n",
       "    </tr>\n",
       "    <tr>\n",
       "      <th>5</th>\n",
       "      <td>5</td>\n",
       "      <td>6</td>\n",
       "      <td>1</td>\n",
       "      <td>1</td>\n",
       "    </tr>\n",
       "    <tr>\n",
       "      <th>6</th>\n",
       "      <td>5</td>\n",
       "      <td>7</td>\n",
       "      <td>1</td>\n",
       "      <td>1</td>\n",
       "    </tr>\n",
       "    <tr>\n",
       "      <th>7</th>\n",
       "      <td>4</td>\n",
       "      <td>8</td>\n",
       "      <td>1</td>\n",
       "      <td>1</td>\n",
       "    </tr>\n",
       "    <tr>\n",
       "      <th>8</th>\n",
       "      <td>3</td>\n",
       "      <td>9</td>\n",
       "      <td>1</td>\n",
       "      <td>1</td>\n",
       "    </tr>\n",
       "  </tbody>\n",
       "</table>\n",
       "</div>"
      ],
      "text/plain": [
       "   Capacità (nF)  V2 (V)  Err C (nF)  Err V ( V)\n",
       "0             10       1           1           1\n",
       "1              9       2           1           1\n",
       "2              8       3           1           1\n",
       "3              7       4           1           1\n",
       "4              6       5           1           1\n",
       "5              5       6           1           1\n",
       "6              5       7           1           1\n",
       "7              4       8           1           1\n",
       "8              3       9           1           1"
      ]
     },
     "execution_count": 3,
     "metadata": {},
     "output_type": "execute_result"
    }
   ],
   "source": [
    "df"
   ]
  },
  {
   "cell_type": "markdown",
   "id": "dd304bc1",
   "metadata": {},
   "source": [
    "Il modello è $y = a x + b$ \n",
    "\n",
    " $V_2 = \\frac{K_B T}{U^* C}$\n",
    "\n",
    " con $y = V_2$,  $a = \\frac{K_B T}{U^* C}$ ,  x = 1/C\n",
    "\n",
    " supponiamo che:\n",
    "\n",
    "- $T = 25 °C = 300 K$\n",
    "- $U^* = \\frac{U_m}{Y^2} \\frac{R_1}{R_1 + R_2} \\frac{R_V + R_{av}}{R_V}$\n",
    " con $U_m = 10 V,  Y = 1.01·10^6 , R_2 = 9R_1, R_{av} = 1.5 M \\Omega $\n"
   ]
  },
  {
   "cell_type": "markdown",
   "id": "a1ffe7e7",
   "metadata": {},
   "source": [
    "Fit lineare con Minuit nel caso in cui gli errori sulle x siano effettivamente trascurabili\n"
   ]
  },
  {
   "cell_type": "markdown",
   "id": "60efbf09",
   "metadata": {},
   "source": []
  },
  {
   "cell_type": "markdown",
   "id": "4b5bc714",
   "metadata": {},
   "source": [
    " ### FIT LINEARE NEL CASO IN CUI NON SIANO TRASCURABILI GLI ERRORI SULLE X"
   ]
  },
  {
   "cell_type": "code",
   "execution_count": 4,
   "id": "69127155",
   "metadata": {},
   "outputs": [],
   "source": [
    "T  = 300 \n",
    "U_star = 10/(1.01 * 10**6)**2 /10 * 1 # aggiustare, non so il valoroe di R_V\n",
    "\n",
    "def linear_func(B, x):\n",
    "        return B[0] * x + B[1]\n",
    "\n",
    "def fit_lineare(x,y, errx, erry):\n",
    "    \n",
    "    \n",
    "\n",
    "    linear_model = odr.Model(linear_func) \n",
    "\n",
    "    data = odr.RealData(x, y, sx=errx, sy= erry)\n",
    "\n",
    "    fit = odr.ODR(data, linear_model, beta0=[1, 0])  # parametri iniziali [pendenza, intercetta]\n",
    "\n",
    "    output = fit.run()\n",
    "    par, cov = output.beta, output.cov_beta\n",
    "    dev_std = output.sd_beta\n",
    "    \n",
    "    return par, dev_std\n",
    " \n",
    " \n"
   ]
  },
  {
   "cell_type": "code",
   "execution_count": 5,
   "id": "2de7bc8d",
   "metadata": {},
   "outputs": [
    {
     "name": "stdout",
     "output_type": "stream",
     "text": [
      "coefficiente angolare m = 49.14 +- 5.23 \n",
      "intercetta q = -3.46 +- 0.75 \n",
      "[5.23167183 0.74582865]\n"
     ]
    }
   ],
   "source": [
    "par, dev_std = fit_lineare(c_rev, v, err_c_rev, err_v)\n",
    "print(f\"coefficiente angolare m = {par[0]:.2f} +- {dev_std[0]:.2f} \")\n",
    "print(f\"intercetta q = {par[1]:.2f} +- {dev_std[1]:.2f} \")\n",
    "print(dev_std)"
   ]
  },
  {
   "cell_type": "code",
   "execution_count": 6,
   "id": "74661070",
   "metadata": {},
   "outputs": [
    {
     "data": {
      "text/plain": [
       "Text(0, 0.5, 'V (V)')"
      ]
     },
     "execution_count": 6,
     "metadata": {},
     "output_type": "execute_result"
    },
    {
     "data": {
      "image/png": "[encoded data removed]",
      "text/plain": [
       "<Figure size 640x480 with 1 Axes>"
      ]
     },
     "metadata": {},
     "output_type": "display_data"
    }
   ],
   "source": [
    "plt.errorbar(c_rev, v, yerr = err_v, xerr = err_c_rev,fmt = \"o\", color = \"red\")\n",
    "label_fit = (\n",
    "    \"Parametri fit\"\n",
    "    \"\\n  • \" + f\"m = ({par[0]:.2f} ± {dev_std[0]:.2f}) V\"\n",
    "    \"\\n  • \" + f\"q = ({par[1]:.2f} ± {dev_std[1]:.2f}) V\"\n",
    ")\n",
    "plt.plot(\n",
    "    c_rev,\n",
    "    linear_func(par, c_rev),\n",
    "    color=\"green\",\n",
    "    label=label_fit)\n",
    "plt.title(\"V vs 1/C\")\n",
    "plt.xlabel(\"1/C (1/nF)\")\n",
    "plt.legend()\n",
    "plt.ylabel(\"V (V)\")"
   ]
  },
  {
   "cell_type": "code",
   "execution_count": 7,
   "id": "05ce4a2e",
   "metadata": {},
   "outputs": [
    {
     "name": "stdout",
     "output_type": "stream",
     "text": [
      "0    1\n",
      "1    2\n",
      "2    3\n",
      "3    4\n",
      "4    5\n",
      "5    6\n",
      "6    7\n",
      "7    8\n",
      "8    9\n",
      "Name: V2 (V), dtype: int64\n"
     ]
    }
   ],
   "source": [
    "print(v)\n"
   ]
  },
  {
   "cell_type": "markdown",
   "id": "a8f1ecce",
   "metadata": {},
   "source": [
    "## Algoritmo per la convergeza di K_B\n",
    "\n",
    "Nota bene: in questo processo vanno DIVISI  per $Z$ i valori ORIGINARIAMENTE misurati di $V_2$"
   ]
  },
  {
   "cell_type": "code",
   "execution_count": 8,
   "id": "f01990b1",
   "metadata": {},
   "outputs": [
    {
     "ename": "NameError",
     "evalue": "name 'v_temp' is not defined",
     "output_type": "error",
     "traceback": [
      "\u001b[1;31m---------------------------------------------------------------------------\u001b[0m",
      "\u001b[1;31mNameError\u001b[0m                                 Traceback (most recent call last)",
      "\u001b[1;32m~\\AppData\\Local\\Temp\\ipykernel_20388\\2396802149.py\u001b[0m in \u001b[0;36m<module>\u001b[1;34m\u001b[0m\n\u001b[0;32m     22\u001b[0m     \u001b[0meff\u001b[0m \u001b[1;33m=\u001b[0m \u001b[0mabs\u001b[0m\u001b[1;33m(\u001b[0m\u001b[0mq\u001b[0m \u001b[1;33m-\u001b[0m \u001b[0mq1\u001b[0m\u001b[1;33m)\u001b[0m\u001b[1;33m\u001b[0m\u001b[1;33m\u001b[0m\u001b[0m\n\u001b[0;32m     23\u001b[0m \u001b[1;33m\u001b[0m\u001b[0m\n\u001b[1;32m---> 24\u001b[1;33m     \u001b[0mv\u001b[0m \u001b[1;33m=\u001b[0m \u001b[0mv_temp\u001b[0m\u001b[1;33m.\u001b[0m\u001b[0mcopy\u001b[0m\u001b[1;33m(\u001b[0m\u001b[1;33m)\u001b[0m\u001b[1;33m\u001b[0m\u001b[1;33m\u001b[0m\u001b[0m\n\u001b[0m\u001b[0;32m     25\u001b[0m     \u001b[0mcount\u001b[0m \u001b[1;33m+=\u001b[0m \u001b[1;36m1\u001b[0m\u001b[1;33m\u001b[0m\u001b[1;33m\u001b[0m\u001b[0m\n\u001b[0;32m     26\u001b[0m \u001b[1;33m\u001b[0m\u001b[0m\n",
      "\u001b[1;31mNameError\u001b[0m: name 'v_temp' is not defined"
     ]
    }
   ],
   "source": [
    "eff = 5\n",
    "count = 0\n",
    "iter_max = 100\n",
    "Z = [2,2,2,2,2,2,2,2,2]  # sarà una lista da riempire con i vari valori delle capacità\n",
    "Z = np.array(Z)\n",
    "\n",
    "v_new = []\n",
    " \n",
    "while eff > 0.01 and count < iter_max:\n",
    "    \n",
    "    par, dev_std = fit_lineare(c_rev, v, err_c_rev, err_v)\n",
    "    m, q = par\n",
    "    \n",
    "    v_new = (v - q) / Z\n",
    "    \n",
    "    \n",
    "    #con questi nuovi valori devo fare il nuovo fit\n",
    "     \n",
    "    par1, dev_std1 = fit_lineare(c_rev, v_new,err_c_rev, err_v ) \n",
    "    m1, q1 = par1\n",
    "    \n",
    "    eff = abs(q - q1)\n",
    "    \n",
    "    v = v_temp.copy()\n",
    "    count += 1\n",
    "    \n",
    "    \n",
    "    \n",
    "    \n",
    "    # l'errore sul v_new è diverso da quello di prima\n",
    "    # perché v_new = V (misurato con errore del tester) + q(V,C) (ricavato col fit, con l'errore di ODR, che dipende da V)\n",
    "    # quindi ora ci metto quello err_v, è un'altro errore, che probabilmente ha dentro un termine di covarianza\n",
    "    \n",
    "print(f\"Convergenza raggiunta dopo {count} iterazioni: q → {q1:.3f}\")"
   ]
  },
  {
   "cell_type": "code",
   "execution_count": null,
   "id": "6c813dce",
   "metadata": {},
   "outputs": [],
   "source": []
  }
 ],
 "metadata": {
  "kernelspec": {
   "display_name": "Python 3 (ipykernel)",
   "language": "python",
   "name": "python3"
  },
  "language_info": {
   "codemirror_mode": {
    "name": "ipython",
    "version": 3
   },
   "file_extension": ".py",
   "mimetype": "text/x-python",
   "name": "python",
   "nbconvert_exporter": "python",
   "pygments_lexer": "ipython3",
   "version": "3.9.13"
  }
 },
 "nbformat": 4,
 "nbformat_minor": 5
}
