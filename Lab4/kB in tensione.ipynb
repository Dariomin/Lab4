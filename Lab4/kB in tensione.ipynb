{
 "cells": [
  {
   "cell_type": "markdown",
   "id": "709e9d0e",
   "metadata": {},
   "source": [
    "## Ciao raga\n",
    "\n",
    "Elisabetta ti odio  solo per il fatto che non leggerai mai questo codice.\n",
    "Ciao Antonino.\n",
    "Ciao **SIMONINI**\n",
    "\n"
   ]
  },
  {
   "cell_type": "code",
   "execution_count": null,
   "id": "3095c803",
   "metadata": {
    "collapsed": true
   },
   "outputs": [],
   "source": []
  },
  {
   "cell_type": "code",
   "execution_count": null,
   "id": "37691d2d",
   "metadata": {},
   "outputs": [],
   "source": []
  }
 ],
 "metadata": {
  "kernelspec": {
   "display_name": "Python 3 (ipykernel)",
   "language": "python",
   "name": "python3"
  },
  "language_info": {
   "codemirror_mode": {
    "name": "ipython",
    "version": 3
   },
   "file_extension": ".py",
   "mimetype": "text/x-python",
   "name": "python",
   "nbconvert_exporter": "python",
   "pygments_lexer": "ipython3",
   "version": "3.9.13"
  }
 },
 "nbformat": 4,
 "nbformat_minor": 5
}
